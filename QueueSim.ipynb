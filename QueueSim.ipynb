{
 "cells": [
  {
   "cell_type": "code",
   "execution_count": 2,
   "id": "61044bef",
   "metadata": {},
   "outputs": [],
   "source": [
    "import numpy as np\n",
    "import pandas as pd\n",
    "import seaborn as sns\n",
    "from scipy.stats import bernoulli\n",
    "import seaborn as sb\n",
    "\n",
    "import warnings\n",
    "warnings.filterwarnings('ignore')\n",
    "\n",
    "\n",
    "df = pd.DataFrame()\n",
    "\n",
    "class Simulation:\n",
    "    clock = 0.0\n",
    "    def __init__(self):\n",
    "        self.num_in_system = 0\n",
    "        self.t_arrival = self.generate_interarrival()\n",
    "        self.t_depart = float('inf') \n",
    "        self.num_arrivals = 0\n",
    "        self.num_departs = 1\n",
    "        self.area_under_qt=0\n",
    "        self.area_under_bt=0\n",
    "        self.number_serviced=0\n",
    "        self.total_wait = 0.0\n",
    "        self.tmp_time = self.generate_service()\n",
    "        self.sum_service=0\n",
    "        self.depar=[]\n",
    "        \n",
    "    def advance_time(self):\n",
    "        t_event = min(self.t_arrival, self.t_depart)\n",
    "        self.total_wait += self.num_in_system*abs(Simulation.clock-t_event)\n",
    "        Simulation.clock = t_event\n",
    "        if self.t_arrival <= self.t_depart:\n",
    "            self.handle_arrival_event()\n",
    "        else:\n",
    "            self.handle_depart_event()\n",
    "    \n",
    "    def handle_arrival_event(self):\n",
    "        self.num_in_system += 1\n",
    "        self.num_arrivals += 1\n",
    "        if self.num_in_system <= 1:\n",
    "            self.temp1 = self.generate_service()\n",
    "            self.tmp_time=self.temp1\n",
    "            self.t_depart = Simulation.clock + self.temp1\n",
    "            self.area_under_qt+=self.num_in_system*abs(Simulation.clock-self.temp1)\n",
    "            \n",
    "        self.t_arrival = self.clock + self.generate_interarrival()\n",
    "        \n",
    "    def handle_depart_event(self):\n",
    "        self.num_in_system -= 1\n",
    "        self.num_departs += 1\n",
    "        if self.num_in_system > 0:\n",
    "            self.temp2=self.generate_service();\n",
    "            self.sum_service+=self.temp2\n",
    "            self.tmp_time = self.temp2\n",
    "            self.t_depart = Simulation.clock + self.temp2\n",
    "            self.depar.append(self.t_depart)\n",
    "            self.number_serviced+=1\n",
    "            self.area_under_bt += self.t_depart-Simulation.clock\n",
    "\n",
    "        else:\n",
    "            self.t_depart = float(\"inf\")\n",
    "    \n",
    "    def generate_interarrival(self):\n",
    "        return np.random.exponential(scale=1)\n",
    "    def generate_service(self):\n",
    "        return np.random.exponential(scale=2)\n",
    "\n",
    "np.random.seed(0)\n"
   ]
  },
  {
   "cell_type": "code",
   "execution_count": 3,
   "id": "cafca124",
   "metadata": {},
   "outputs": [],
   "source": [
    "class Simulation2():\n",
    "\n",
    "    def __init__(self,arriv_scale,serv_scale):\n",
    "        self.clock=0\n",
    "        self.num_in_system = 0\n",
    "        self.area_under_qt=0\n",
    "        self.area_under_bt=0\n",
    "        self.number_serviced=0\n",
    "        self.serv_scale=serv_scale\n",
    "        self.arriv_scale=arriv_scale\n",
    "        self.t_arrival = self.generate_interarrival()\n",
    "        self.t_depart = float('inf') \n",
    "        self.num_arrivals = 0\n",
    "        self.num_departs = 1\n",
    "        self.total_wait = 0.0\n",
    "        self.sum_service=0\n",
    "        self.tmp_time = self.generate_service()\n",
    "        self.depar=[]    \n",
    "        \n",
    "    def advance_time(self,arrive):\n",
    "        t_event = min(arrive, self.t_depart)\n",
    "        self.total_wait += self.num_in_system*abs(self.clock-t_event)\n",
    "        Simulation2.clock = t_event\n",
    "        if self.t_arrival <= self.t_depart:\n",
    "            self.handle_arrival_event(arrive)\n",
    "        else:\n",
    "            self.handle_depart_event()\n",
    "    \n",
    "    def handle_arrival_event(self,arrive):\n",
    "        self.num_in_system += 1\n",
    "        self.num_arrivals += 1\n",
    "        if self.num_in_system <= 1:\n",
    "            self.temp1 = self.generate_service()\n",
    "            self.tmp_time=self.temp1\n",
    "            self.t_depart = self.clock + self.temp1\n",
    "            self.area_under_qt+=self.num_in_system*abs(self.clock-self.temp1)\n",
    "        self.t_arrival = arrive;\n",
    "        \n",
    "    def handle_depart_event(self):\n",
    "        self.num_in_system -= 1\n",
    "        self.num_departs += 1\n",
    "        if self.num_in_system > 0:\n",
    "            self.temp2=self.generate_service();\n",
    "            self.sum_service+=self.temp2            \n",
    "            self.tmp_time = self.temp2\n",
    "            self.t_depart = self.clock + self.temp2\n",
    "            self.depar.append(self.t_depart)\n",
    "            \n",
    "            self.number_serviced+=1\n",
    "            self.area_under_bt += self.t_depart-self.clock\n",
    "\n",
    "        else:\n",
    "            self.t_depart = float(\"inf\")\n",
    "    \n",
    "    def generate_interarrival(self):\n",
    "        return np.random.exponential(scale=self.arriv_scale)\n",
    "    \n",
    "    def generate_service(self):\n",
    "        return np.random.exponential(scale=self.serv_scale)\n"
   ]
  },
  {
   "cell_type": "code",
   "execution_count": 4,
   "id": "0063d7af",
   "metadata": {
    "scrolled": false
   },
   "outputs": [
    {
     "data": {
      "image/png": "[encoded data removed]",
      "text/plain": [
       "<Figure size 288x288 with 1 Axes>"
      ]
     },
     "metadata": {
      "needs_background": "light"
     },
     "output_type": "display_data"
    },
    {
     "data": {
      "image/png": "[encoded data removed]",
      "text/plain": [
       "<Figure size 288x288 with 1 Axes>"
      ]
     },
     "metadata": {
      "needs_background": "light"
     },
     "output_type": "display_data"
    },
    {
     "data": {
      "image/png": "[encoded data removed]",
      "text/plain": [
       "<Figure size 864x288 with 1 Axes>"
      ]
     },
     "metadata": {
      "needs_background": "light"
     },
     "output_type": "display_data"
    }
   ],
   "source": [
    "ncust=5000\n",
    "s = Simulation()\n",
    "\n",
    "clock_time = []\n",
    "arrival_times = []\n",
    "service_times = []\n",
    "waiting_times=[]\n",
    "finish_times = [] # list of finish times after waiting and being served\n",
    "departures = []\n",
    "\n",
    "arrival_times2 = []\n",
    "service_times2 = []\n",
    "waiting_times2=[]\n",
    "finish_times2 = [] # list of finish times after waiting and being served\n",
    "departures2 = []\n",
    "\n",
    "arrival_times3 = []\n",
    "service_times3 = []\n",
    "finish_times3 = [] # list of finish times after waiting and being served\n",
    "waiting_times3=[]\n",
    "departures3 = []\n",
    "\n",
    "\n",
    "event_calendar = []\n",
    "network_service_time=0\n",
    "\n",
    "Server2=Simulation2(arriv_scale=1,serv_scale=4)\n",
    "Server3=Simulation2(arriv_scale=1,serv_scale=3)\n",
    "\n",
    "for i in range(ncust):\n",
    "    s.advance_time()\n",
    "    a = s.clock\n",
    "    \n",
    "    b = s.t_arrival\n",
    "    c = s.tmp_time\n",
    "    d = s.t_depart\n",
    "    clock_time.append(a)\n",
    "    arrival_times.append(b)\n",
    "    service_times.append(c)\n",
    "    waiting_times.append(s.area_under_bt)\n",
    "    departures.append(d)\n",
    "    Simulation2.clock=a\n",
    "    Simulation2.clock=a\n",
    "    \n",
    "    arr=iter(s.depar)\n",
    "    while (len(s.depar)!=0):\n",
    "        if len(s.depar)!=0:\n",
    "            val = s.depar.pop(0)\n",
    "            data_bern = bernoulli.rvs(p=0.6)\n",
    "            if data_bern==1:\n",
    "                Server2.clock=val\n",
    "                Server2.advance_time(val)\n",
    "                a = Server2.clock\n",
    "                b = Server2.t_arrival\n",
    "                c = Server2.tmp_time\n",
    "                d = Server2.t_depart\n",
    "                clock_time.append(a)\n",
    "                arrival_times2.append(b)\n",
    "                service_times2.append(c)\n",
    "                departures2.append(d)\n",
    "                waiting_times2.append(Server2.area_under_bt)\n",
    "                s.clock=Server2.clock\n",
    "            else:\n",
    "                Server3.clock=val\n",
    "                Server3.advance_time(val)\n",
    "                a = Server3.clock\n",
    "                b = Server3.t_arrival\n",
    "                c = Server3.tmp_time\n",
    "                d = Server3.t_depart\n",
    "                clock_time.append(a)\n",
    "                arrival_times3.append(b)\n",
    "                service_times3.append(c)\n",
    "                departures3.append(d)\n",
    "                waiting_times3.append(Server3.area_under_bt)\n",
    "                s.clock=Server3.clock\n",
    "    \n",
    "    event_list = {\"Iteration\": \"I_\"+str(i), \"Event_time\": a,\n",
    "                  \"Arrival_time\": b, \"Service_time\": c, \"Departure_time\": d}\n",
    "    event_calendar.append(event_list)\n",
    "#     print(event_calendar)\n",
    "\n",
    "network_service_time=s.sum_service+Server2.sum_service+Server3.sum_service\n",
    "\n",
    "import matplotlib.pyplot as plt\n",
    "\n",
    "\n",
    "    #plotting data\n",
    "plt.figure(figsize=(4,4))\n",
    "sns.distplot(arrival_times,kde=False,color='r',bins=20)\n",
    "plt.title('Time between Arrivals')\n",
    "plt.xlabel('Minutes')\n",
    "plt.ylabel('Frequency')\n",
    "sns.despine()\n",
    "plt.show()\n",
    "\n",
    "#service time distribution plot\n",
    "plt.figure(figsize=(4,4))\n",
    "sns.distplot(service_times,kde=False,bins=20)\n",
    "plt.title('Service Times')\n",
    "plt.xlabel('Minutes')\n",
    "plt.ylabel('Frequency')\n",
    "sns.despine()\n",
    "plt.show()\n",
    "\n",
    "plt.figure(figsize=(12,4))\n",
    "sns.distplot(waiting_times,kde=False,bins=20)\n",
    "plt.xlabel('Customer number')\n",
    "plt.ylabel('minutes')\n",
    "plt.title('Wait time of customers ')\n",
    "sns.despine()\n",
    "plt.show()"
   ]
  },
  {
   "cell_type": "code",
   "execution_count": 5,
   "id": "a875623e",
   "metadata": {},
   "outputs": [
    {
     "name": "stdout",
     "output_type": "stream",
     "text": [
      "\n",
      " Result for Queue1 \n",
      " Output: \n",
      " Wq:  835.1743125699165 \n",
      " W: 837.08684668079 \n",
      "Lq: 3.0809118968837077 \n",
      " p: 0.9924581214500161 \n",
      " L: 4.073370018333724 \n",
      "\n"
     ]
    },
    {
     "data": {
      "image/png": "[encoded data removed]",
      "text/plain": [
       "<Figure size 288x288 with 1 Axes>"
      ]
     },
     "metadata": {
      "needs_background": "light"
     },
     "output_type": "display_data"
    },
    {
     "data": {
      "image/png": "[encoded data removed]",
      "text/plain": [
       "<Figure size 288x288 with 1 Axes>"
      ]
     },
     "metadata": {
      "needs_background": "light"
     },
     "output_type": "display_data"
    },
    {
     "data": {
      "image/png": "[encoded data removed]",
      "text/plain": [
       "<Figure size 864x288 with 1 Axes>"
      ]
     },
     "metadata": {
      "needs_background": "light"
     },
     "output_type": "display_data"
    },
    {
     "name": "stdout",
     "output_type": "stream",
     "text": [
      "\n",
      " Result for Queue2 \n",
      " Output: \n",
      " Wq:  2179.5024819998207 \n",
      " W: 2183.540598653298 \n",
      "Lq: 0.002280968485180293 \n",
      " p: 0.3923600614080608 \n",
      " L: 0.39464102989324074 \n",
      "\n"
     ]
    },
    {
     "data": {
      "image/png": "[encoded data removed]",
      "text/plain": [
       "<Figure size 288x288 with 1 Axes>"
      ]
     },
     "metadata": {
      "needs_background": "light"
     },
     "output_type": "display_data"
    },
    {
     "data": {
      "image/png": "[encoded data removed]",
      "text/plain": [
       "<Figure size 288x288 with 1 Axes>"
      ]
     },
     "metadata": {
      "needs_background": "light"
     },
     "output_type": "display_data"
    },
    {
     "data": {
      "image/png": "[encoded data removed]",
      "text/plain": [
       "<Figure size 864x288 with 1 Axes>"
      ]
     },
     "metadata": {
      "needs_background": "light"
     },
     "output_type": "display_data"
    },
    {
     "name": "stdout",
     "output_type": "stream",
     "text": [
      "\n",
      " Result for Queue3 \n",
      " Output: \n",
      " Wq:  1542.0439805312683 \n",
      " W: 1544.9997901407392 \n",
      "Lq: 0.00026810955128175353 \n",
      " p: 0.23313929832932842 \n",
      " L: 0.23340740788061107 \n",
      "\n"
     ]
    },
    {
     "data": {
      "image/png": "[encoded data removed]",
      "text/plain": [
       "<Figure size 288x288 with 1 Axes>"
      ]
     },
     "metadata": {
      "needs_background": "light"
     },
     "output_type": "display_data"
    },
    {
     "data": {
      "image/png": "[encoded data removed]",
      "text/plain": [
       "<Figure size 288x288 with 1 Axes>"
      ]
     },
     "metadata": {
      "needs_background": "light"
     },
     "output_type": "display_data"
    },
    {
     "data": {
      "image/png": "[encoded data removed]",
      "text/plain": [
       "<Figure size 864x288 with 1 Axes>"
      ]
     },
     "metadata": {
      "needs_background": "light"
     },
     "output_type": "display_data"
    }
   ],
   "source": [
    "\n",
    "# Model Results\n",
    "print('\\n Result for Queue1 \\n Output:','\\n',\n",
    "     'Wq: ',str(s.total_wait/s.num_departs),'\\n',\n",
    "     'W:',str((s.total_wait/s.num_departs)+(s.area_under_bt/s.num_departs)),'\\n'\n",
    "     'Lq:',str(s.area_under_qt/s.clock),'\\n',\n",
    "     'p:',str(s.sum_service/s.clock),'\\n',\n",
    "     'L:',str((s.area_under_qt/s.clock)+(s.area_under_bt/s.clock)),'\\n')\n",
    "\n",
    "plt.figure(figsize=(4,4))\n",
    "sns.distplot(arrival_times,kde=False,color='r',bins=20)\n",
    "plt.title('Time between Arrivals')\n",
    "plt.xlabel('Minutes')\n",
    "plt.ylabel('Frequency')\n",
    "sns.despine()\n",
    "plt.show()\n",
    "\n",
    "#service time distribution plot\n",
    "plt.figure(figsize=(4,4))\n",
    "sns.distplot(service_times,kde=False,bins=20)\n",
    "plt.title('Service Times')\n",
    "plt.xlabel('Minutes')\n",
    "plt.ylabel('Frequency')\n",
    "sns.despine()\n",
    "plt.show()\n",
    "\n",
    "plt.figure(figsize=(12,4))\n",
    "sns.distplot(waiting_times,kde=False,bins=20)\n",
    "plt.xlabel('Customer number')\n",
    "plt.ylabel('minutes')\n",
    "plt.title('Wait time of customers ')\n",
    "sns.despine()\n",
    "plt.show()\n",
    "\n",
    "print('\\n Result for Queue2 \\n Output:','\\n',\n",
    "     'Wq: ',str(Server2.total_wait/Server2.num_departs),'\\n',\n",
    "     'W:',str((Server2.total_wait/Server2.num_departs)+(Server2.area_under_bt/Server2.num_departs)),'\\n'\n",
    "     'Lq:',str(Server2.area_under_qt/Server2.clock),'\\n',\n",
    "     'p:',str(Server2.sum_service/Server2.clock),'\\n',\n",
    "     'L:',str((Server2.area_under_qt/Server2.clock)+(Server2.area_under_bt/Server2.clock)),'\\n')\n",
    "\n",
    "plt.figure(figsize=(4,4))\n",
    "sns.distplot(arrival_times2,kde=False,color='r',bins=20)\n",
    "plt.title('Time between Arrivals')\n",
    "plt.xlabel('Minutes')\n",
    "plt.ylabel('Frequency')\n",
    "sns.despine()\n",
    "plt.show()\n",
    "\n",
    "#service time distribution plot\n",
    "plt.figure(figsize=(4,4))\n",
    "sns.distplot(service_times2,kde=False,bins=20)\n",
    "plt.title('Service Times')\n",
    "plt.xlabel('Minutes')\n",
    "plt.ylabel('Frequency')\n",
    "sns.despine()\n",
    "plt.show()\n",
    "\n",
    "plt.figure(figsize=(12,4))\n",
    "sns.distplot(waiting_times2,kde=False,bins=20)\n",
    "plt.xlabel('Customer number')\n",
    "plt.ylabel('minutes')\n",
    "plt.title('Wait time of customers ')\n",
    "sns.despine()\n",
    "plt.show()\n",
    "\n",
    "print('\\n Result for Queue3 \\n Output:','\\n',\n",
    "     'Wq: ',str(Server3.total_wait/Server3.num_departs),'\\n',\n",
    "     'W:',str((Server3.total_wait/Server3.num_departs)+(Server3.area_under_bt/Server3.num_departs)),'\\n'\n",
    "     'Lq:',str(Server3.area_under_qt/Server3.clock),'\\n',\n",
    "     'p:',str(Server3.sum_service/Server3.clock),'\\n',\n",
    "     'L:',str((Server3.area_under_qt/Server3.clock)+(Server3.area_under_bt/Server3.clock)),'\\n')\n",
    "\n",
    "plt.figure(figsize=(4,4))\n",
    "sns.distplot(arrival_times3,kde=False,color='r',bins=20)\n",
    "plt.title('Time between Arrivals')\n",
    "plt.xlabel('Minutes')\n",
    "plt.ylabel('Frequency')\n",
    "sns.despine()\n",
    "plt.show()\n",
    "\n",
    "#service time distribution plot\n",
    "plt.figure(figsize=(4,4))\n",
    "sns.distplot(service_times3,kde=False,bins=20)\n",
    "plt.title('Service Times')\n",
    "plt.xlabel('Minutes')\n",
    "plt.ylabel('Frequency')\n",
    "sns.despine()\n",
    "plt.show()\n",
    "\n",
    "plt.figure(figsize=(12,4))\n",
    "sns.distplot(waiting_times3,kde=False,bins=20)\n",
    "plt.xlabel('Customer number')\n",
    "plt.ylabel('minutes')\n",
    "plt.title('Wait time of customers ')\n",
    "sns.despine()\n",
    "plt.show()\n"
   ]
  },
  {
   "cell_type": "code",
   "execution_count": 18,
   "id": "8639eac0",
   "metadata": {},
   "outputs": [
    {
     "name": "stdout",
     "output_type": "stream",
     "text": [
      "\n",
      " Result for Queue1 \n",
      " Output: \n",
      " Wq:  835.1743125699165 \n",
      " W: 837.08684668079 \n",
      "Lq: 3.0809118968837077 \n",
      " p: 0.9924581214500161 \n",
      " L: 4.073370018333724 \n",
      "\n",
      "\n",
      " Result for Queue2 \n",
      " Output: \n",
      " Wq:  2179.5024819998207 \n",
      " W: 2183.540598653298 \n",
      "Lq: 0.002280968485180293 \n",
      " p: 0.3923600614080608 \n",
      " L: 0.39464102989324074 \n",
      "\n",
      "\n",
      " Result for Queue3 \n",
      " Output: \n",
      " Wq:  1542.0439805312683 \n",
      " W: 1544.9997901407392 \n",
      "Lq: 0.00026810955128175353 \n",
      " p: 0.23313929832932842 \n",
      " L: 0.23340740788061107 \n",
      "\n",
      "\n",
      " Result for network \n",
      " Output: \n",
      " R:  1521.8757451582758 \n",
      " N: 1812.1534487177964 \n",
      "\n"
     ]
    }
   ],
   "source": [
    "response_time1=(s.total_wait/s.num_departs)+(s.area_under_bt/s.num_departs)\n",
    "response_time2=(Server2.total_wait/Server2.num_departs)+(Server2.area_under_bt/Server2.num_departs)\n",
    "response_time3=(Server3.total_wait/Server3.num_departs)+(Server3.area_under_bt/Server3.num_departs)\n",
    "\n",
    "\n",
    "print('\\n Result for Queue1 \\n Output:','\\n',\n",
    "     'Wq: ',str(s.total_wait/s.num_departs),'\\n',\n",
    "     'W:',str(response_time1),'\\n'\n",
    "     'Lq:',str(s.area_under_qt/s.clock),'\\n',\n",
    "     'p:',str(s.sum_service/s.clock),'\\n',\n",
    "     'L:',str((s.area_under_qt/s.clock)+(s.area_under_bt/s.clock)),'\\n')\n",
    "\n",
    "print('\\n Result for Queue2 \\n Output:','\\n',\n",
    "     'Wq: ',str(Server2.total_wait/Server2.num_departs),'\\n',\n",
    "     'W:',str(response_time2),'\\n'\n",
    "     'Lq:',str(Server2.area_under_qt/Server2.clock),'\\n',\n",
    "     'p:',str(Server2.sum_service/Server2.clock),'\\n',\n",
    "     'L:',str((Server2.area_under_qt/Server2.clock)+(Server2.area_under_bt/Server2.clock)),'\\n')\n",
    "\n",
    "\n",
    "print('\\n Result for Queue3 \\n Output:','\\n',\n",
    "     'Wq: ',str(Server3.total_wait/Server3.num_departs),'\\n',\n",
    "     'W:',str(response_time3),'\\n'\n",
    "     'Lq:',str(Server3.area_under_qt/Server3.clock),'\\n',\n",
    "     'p:',str(Server3.sum_service/Server3.clock),'\\n',\n",
    "     'L:',str((Server3.area_under_qt/Server3.clock)+(Server3.area_under_bt/Server3.clock)),'\\n')\n",
    "\n",
    "mean_responsetime=(response_time1+response_time2+response_time3)/3\n",
    "arrival_rate=ncust/s.clock\n",
    "\n",
    "mean_number_in_system=arrival_rate*mean_responsetime\n",
    "\n",
    "\n",
    "print('\\n Result for network \\n Output:','\\n',\n",
    "     'R: ',str(mean_responsetime),'\\n',\n",
    "     'N:',str(mean_number_in_system),'\\n')"
   ]
  }
 ],
 "metadata": {
  "kernelspec": {
   "display_name": "Python 3",
   "language": "python",
   "name": "python3"
  },
  "language_info": {
   "codemirror_mode": {
    "name": "ipython",
    "version": 3
   },
   "file_extension": ".py",
   "mimetype": "text/x-python",
   "name": "python",
   "nbconvert_exporter": "python",
   "pygments_lexer": "ipython3",
   "version": "3.8.8"
  }
 },
 "nbformat": 4,
 "nbformat_minor": 5
}
